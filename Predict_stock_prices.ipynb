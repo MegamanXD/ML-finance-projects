{
  "nbformat": 4,
  "nbformat_minor": 0,
  "metadata": {
    "colab": {
      "name": "Predict stock prices.ipynb",
      "provenance": [],
      "collapsed_sections": []
    },
    "kernelspec": {
      "name": "python3",
      "display_name": "Python 3"
    }
  },
  "cells": [
    {
      "cell_type": "markdown",
      "metadata": {
        "id": "3U5vYV4SwulO"
      },
      "source": [
        "# Description: This program uses an artificial recurrent neural network called Long Short Term Memory (LSTM) to predict the closing stock price of a corporation (Apple Inc.) using the past 60 day stock price."
      ]
    },
    {
      "cell_type": "markdown",
      "metadata": {
        "id": "FQG-kY59JfoG"
      },
      "source": [
        "For more info, please visit https://youtu.be/QIUxPv5PJOY"
      ]
    },
    {
      "cell_type": "markdown",
      "metadata": {
        "id": "zB9leT10Mr6m"
      },
      "source": [
        "**NOTE** <br> \n",
        "*epochs* should be medium (big enough to fit the data well, but also small enough to not overfit) <br>\n",
        "*batch* should be small (minimize loss and increase accuracy), but should not be too small since the program should run quickly as well."
      ]
    },
    {
      "cell_type": "code",
      "metadata": {
        "id": "F6Nig51ywd66",
        "colab": {
          "base_uri": "https://localhost:8080/",
          "height": 74
        },
        "outputId": "6dc3bfbc-b450-4615-eaa7-9a50dd68ad0b"
      },
      "source": [
        "#Import the libraries\n",
        "import math\n",
        "import pandas_datareader as web\n",
        "import numpy as np\n",
        "import pandas as pd\n",
        "from sklearn.preprocessing import MinMaxScaler\n",
        "from keras.models import Sequential\n",
        "from keras.layers import Dense, LSTM\n",
        "import matplotlib.pyplot as plt\n",
        "plt.style.use('fivethirtyeight')"
      ],
      "execution_count": null,
      "outputs": [
        {
          "output_type": "stream",
          "text": [
            "/usr/local/lib/python3.6/dist-packages/pandas_datareader/compat/__init__.py:7: FutureWarning: pandas.util.testing is deprecated. Use the functions in the public API at pandas.testing instead.\n",
            "  from pandas.util.testing import assert_frame_equal\n"
          ],
          "name": "stderr"
        }
      ]
    },
    {
      "cell_type": "code",
      "metadata": {
        "id": "NzJ1eBpdxwEP",
        "colab": {
          "base_uri": "https://localhost:8080/",
          "height": 455
        },
        "outputId": "e364c49c-e45e-47a1-bc2e-c54c3c35e351"
      },
      "source": [
        "# Get the stock quote\n",
        "df = web.DataReader('AMZN', data_source='yahoo', start='2010-01-01', end='2020-08-20')\n",
        "\n",
        "# NOTE: data_source has to be 'yahoo', google doesn't work.\n",
        "# Show the data\n",
        "df"
      ],
      "execution_count": null,
      "outputs": [
        {
          "output_type": "execute_result",
          "data": {
            "text/html": [
              "<div>\n",
              "<style scoped>\n",
              "    .dataframe tbody tr th:only-of-type {\n",
              "        vertical-align: middle;\n",
              "    }\n",
              "\n",
              "    .dataframe tbody tr th {\n",
              "        vertical-align: top;\n",
              "    }\n",
              "\n",
              "    .dataframe thead th {\n",
              "        text-align: right;\n",
              "    }\n",
              "</style>\n",
              "<table border=\"1\" class=\"dataframe\">\n",
              "  <thead>\n",
              "    <tr style=\"text-align: right;\">\n",
              "      <th></th>\n",
              "      <th>High</th>\n",
              "      <th>Low</th>\n",
              "      <th>Open</th>\n",
              "      <th>Close</th>\n",
              "      <th>Volume</th>\n",
              "      <th>Adj Close</th>\n",
              "    </tr>\n",
              "    <tr>\n",
              "      <th>Date</th>\n",
              "      <th></th>\n",
              "      <th></th>\n",
              "      <th></th>\n",
              "      <th></th>\n",
              "      <th></th>\n",
              "      <th></th>\n",
              "    </tr>\n",
              "  </thead>\n",
              "  <tbody>\n",
              "    <tr>\n",
              "      <th>2010-01-04</th>\n",
              "      <td>136.610001</td>\n",
              "      <td>133.139999</td>\n",
              "      <td>136.250000</td>\n",
              "      <td>133.899994</td>\n",
              "      <td>7599900</td>\n",
              "      <td>133.899994</td>\n",
              "    </tr>\n",
              "    <tr>\n",
              "      <th>2010-01-05</th>\n",
              "      <td>135.479996</td>\n",
              "      <td>131.809998</td>\n",
              "      <td>133.429993</td>\n",
              "      <td>134.690002</td>\n",
              "      <td>8851900</td>\n",
              "      <td>134.690002</td>\n",
              "    </tr>\n",
              "    <tr>\n",
              "      <th>2010-01-06</th>\n",
              "      <td>134.729996</td>\n",
              "      <td>131.649994</td>\n",
              "      <td>134.600006</td>\n",
              "      <td>132.250000</td>\n",
              "      <td>7178800</td>\n",
              "      <td>132.250000</td>\n",
              "    </tr>\n",
              "    <tr>\n",
              "      <th>2010-01-07</th>\n",
              "      <td>132.320007</td>\n",
              "      <td>128.800003</td>\n",
              "      <td>132.009995</td>\n",
              "      <td>130.000000</td>\n",
              "      <td>11030200</td>\n",
              "      <td>130.000000</td>\n",
              "    </tr>\n",
              "    <tr>\n",
              "      <th>2010-01-08</th>\n",
              "      <td>133.679993</td>\n",
              "      <td>129.029999</td>\n",
              "      <td>130.559998</td>\n",
              "      <td>133.520004</td>\n",
              "      <td>9830500</td>\n",
              "      <td>133.520004</td>\n",
              "    </tr>\n",
              "    <tr>\n",
              "      <th>...</th>\n",
              "      <td>...</td>\n",
              "      <td>...</td>\n",
              "      <td>...</td>\n",
              "      <td>...</td>\n",
              "      <td>...</td>\n",
              "      <td>...</td>\n",
              "    </tr>\n",
              "    <tr>\n",
              "      <th>2020-07-27</th>\n",
              "      <td>3098.000000</td>\n",
              "      <td>3015.770020</td>\n",
              "      <td>3062.000000</td>\n",
              "      <td>3055.209961</td>\n",
              "      <td>4170500</td>\n",
              "      <td>3055.209961</td>\n",
              "    </tr>\n",
              "    <tr>\n",
              "      <th>2020-07-28</th>\n",
              "      <td>3077.090088</td>\n",
              "      <td>2995.760010</td>\n",
              "      <td>3054.270020</td>\n",
              "      <td>3000.330078</td>\n",
              "      <td>3126700</td>\n",
              "      <td>3000.330078</td>\n",
              "    </tr>\n",
              "    <tr>\n",
              "      <th>2020-07-29</th>\n",
              "      <td>3039.159912</td>\n",
              "      <td>2996.770020</td>\n",
              "      <td>3030.989990</td>\n",
              "      <td>3033.530029</td>\n",
              "      <td>2974100</td>\n",
              "      <td>3033.530029</td>\n",
              "    </tr>\n",
              "    <tr>\n",
              "      <th>2020-07-30</th>\n",
              "      <td>3092.000000</td>\n",
              "      <td>3005.000000</td>\n",
              "      <td>3014.000000</td>\n",
              "      <td>3051.879883</td>\n",
              "      <td>6128300</td>\n",
              "      <td>3051.879883</td>\n",
              "    </tr>\n",
              "    <tr>\n",
              "      <th>2020-07-31</th>\n",
              "      <td>3246.820068</td>\n",
              "      <td>3151.000000</td>\n",
              "      <td>3244.000000</td>\n",
              "      <td>3164.679932</td>\n",
              "      <td>8085500</td>\n",
              "      <td>3164.679932</td>\n",
              "    </tr>\n",
              "  </tbody>\n",
              "</table>\n",
              "<p>2663 rows × 6 columns</p>\n",
              "</div>"
            ],
            "text/plain": [
              "                   High          Low  ...    Volume    Adj Close\n",
              "Date                                  ...                       \n",
              "2010-01-04   136.610001   133.139999  ...   7599900   133.899994\n",
              "2010-01-05   135.479996   131.809998  ...   8851900   134.690002\n",
              "2010-01-06   134.729996   131.649994  ...   7178800   132.250000\n",
              "2010-01-07   132.320007   128.800003  ...  11030200   130.000000\n",
              "2010-01-08   133.679993   129.029999  ...   9830500   133.520004\n",
              "...                 ...          ...  ...       ...          ...\n",
              "2020-07-27  3098.000000  3015.770020  ...   4170500  3055.209961\n",
              "2020-07-28  3077.090088  2995.760010  ...   3126700  3000.330078\n",
              "2020-07-29  3039.159912  2996.770020  ...   2974100  3033.530029\n",
              "2020-07-30  3092.000000  3005.000000  ...   6128300  3051.879883\n",
              "2020-07-31  3246.820068  3151.000000  ...   8085500  3164.679932\n",
              "\n",
              "[2663 rows x 6 columns]"
            ]
          },
          "metadata": {
            "tags": []
          },
          "execution_count": 2
        }
      ]
    },
    {
      "cell_type": "code",
      "metadata": {
        "id": "wu5CFkfSzvOT",
        "colab": {
          "base_uri": "https://localhost:8080/",
          "height": 35
        },
        "outputId": "c051d94f-2b77-4eb8-97b5-2189ca6939e8"
      },
      "source": [
        "# Get the number of rows and columns in the data set\n",
        "df.shape"
      ],
      "execution_count": null,
      "outputs": [
        {
          "output_type": "execute_result",
          "data": {
            "text/plain": [
              "(2663, 6)"
            ]
          },
          "metadata": {
            "tags": []
          },
          "execution_count": 3
        }
      ]
    },
    {
      "cell_type": "code",
      "metadata": {
        "id": "A6vsFqn0z9oL",
        "colab": {
          "base_uri": "https://localhost:8080/",
          "height": 518
        },
        "outputId": "7f050b2d-eb73-47c2-83b6-d24605aa4f11"
      },
      "source": [
        "# Visualize the closing price history\n",
        "plt.figure(figsize =(16,8))\n",
        "plt.title('Close price history')\n",
        "plt.plot(df['Close'])\n",
        "plt.xlabel('Date', fontsize=18)\n",
        "plt.ylabel('Close price (USD $)', fontsize=18)\n",
        "plt.show()"
      ],
      "execution_count": null,
      "outputs": [
        {
          "output_type": "display_data",
          "data": {
            "image/png": "[encoded data removed]",
            "text/plain": [
              "<Figure size 1152x576 with 1 Axes>"
            ]
          },
          "metadata": {
            "tags": [],
            "needs_background": "light"
          }
        }
      ]
    },
    {
      "cell_type": "code",
      "metadata": {
        "id": "OhvI5A8j08Gf",
        "colab": {
          "base_uri": "https://localhost:8080/",
          "height": 35
        },
        "outputId": "536491d9-7036-4a92-d866-c4d157dd677d"
      },
      "source": [
        "# Create a new dataframe with only the 'Close' column\n",
        "data = df.filter(['Close'])\n",
        "\n",
        "# Convert the dataframe to a numpy array\n",
        "dataset = data.values\n",
        "\n",
        "# Get the number of rows to train the model on\n",
        "training_data_len = math.ceil( len(dataset) * .8 )\n",
        "\n",
        "training_data_len"
      ],
      "execution_count": null,
      "outputs": [
        {
          "output_type": "execute_result",
          "data": {
            "text/plain": [
              "2131"
            ]
          },
          "metadata": {
            "tags": []
          },
          "execution_count": 5
        }
      ]
    },
    {
      "cell_type": "code",
      "metadata": {
        "id": "F4qDXWH319VR",
        "colab": {
          "base_uri": "https://localhost:8080/",
          "height": 146
        },
        "outputId": "057f9516-dcb3-468d-bc94-3fb5e8c7c620"
      },
      "source": [
        "# Scale the data to range 0-1\n",
        "scaler = MinMaxScaler(feature_range=(0,1))\n",
        "scaled_data = scaler.fit_transform(dataset)\n",
        "\n",
        "scaled_data"
      ],
      "execution_count": null,
      "outputs": [
        {
          "output_type": "execute_result",
          "data": {
            "text/plain": [
              "array([[0.00818078],\n",
              "       [0.00843634],\n",
              "       [0.00764705],\n",
              "       ...,\n",
              "       [0.94615045],\n",
              "       [0.95208624],\n",
              "       [0.9885747 ]])"
            ]
          },
          "metadata": {
            "tags": []
          },
          "execution_count": 6
        }
      ]
    },
    {
      "cell_type": "code",
      "metadata": {
        "id": "N3sYGiJl2bNg",
        "colab": {
          "base_uri": "https://localhost:8080/",
          "height": 770
        },
        "outputId": "7253896e-46bf-4b93-9f8e-1385e227e1e1"
      },
      "source": [
        "# Create the training data set\n",
        "# Create the scaled training data set\n",
        "train_data = scaled_data[0:training_data_len, :]\n",
        "\n",
        "#Split the data into x_train and y_train data sets\n",
        "x_train = []\n",
        "y_train = []\n",
        "\n",
        "for i in range (60, len(train_data)):\n",
        "  x_train.append(train_data[i-60:i, 0])\n",
        "  y_train.append(train_data[i,0])\n",
        "\n",
        "  if i <= 61:\n",
        "    print(\"x_train =\", x_train, end='\\n\\n')\n",
        "    print(\"y_train =\", y_train, end='\\n----------------------------\\n')"
      ],
      "execution_count": null,
      "outputs": [
        {
          "output_type": "stream",
          "text": [
            "x_train = [array([0.00818078, 0.00843634, 0.00764705, 0.00691922, 0.00805787,\n",
            "       0.0070195 , 0.006062  , 0.00663132, 0.006062  , 0.00599407,\n",
            "       0.0061461 , 0.00555414, 0.00582586, 0.004147  , 0.0037847 ,\n",
            "       0.00351622, 0.00457399, 0.00563501, 0.00543445, 0.0033189 ,\n",
            "       0.00307629, 0.00339329, 0.0023711 , 0.00284015, 0.002659  ,\n",
            "       0.00304717, 0.00283044, 0.00371354, 0.00357444, 0.00288543,\n",
            "       0.00249079, 0.00306335, 0.0028822 , 0.0030407 , 0.00279162,\n",
            "       0.00359385, 0.00310216, 0.00316686, 0.00515302, 0.00547327,\n",
            "       0.00558972, 0.0064437 , 0.00656663, 0.0069548 , 0.00653751,\n",
            "       0.00708419, 0.00807727, 0.00750795, 0.00728475, 0.00749824,\n",
            "       0.00735268, 0.00781202, 0.00703244, 0.00707125, 0.00667984,\n",
            "       0.0062852 , 0.00844927, 0.00855602, 0.00857543, 0.00904771])]\n",
            "\n",
            "y_train = [0.008785693059585403]\n",
            "----------------------------\n",
            "x_train = [array([0.00818078, 0.00843634, 0.00764705, 0.00691922, 0.00805787,\n",
            "       0.0070195 , 0.006062  , 0.00663132, 0.006062  , 0.00599407,\n",
            "       0.0061461 , 0.00555414, 0.00582586, 0.004147  , 0.0037847 ,\n",
            "       0.00351622, 0.00457399, 0.00563501, 0.00543445, 0.0033189 ,\n",
            "       0.00307629, 0.00339329, 0.0023711 , 0.00284015, 0.002659  ,\n",
            "       0.00304717, 0.00283044, 0.00371354, 0.00357444, 0.00288543,\n",
            "       0.00249079, 0.00306335, 0.0028822 , 0.0030407 , 0.00279162,\n",
            "       0.00359385, 0.00310216, 0.00316686, 0.00515302, 0.00547327,\n",
            "       0.00558972, 0.0064437 , 0.00656663, 0.0069548 , 0.00653751,\n",
            "       0.00708419, 0.00807727, 0.00750795, 0.00728475, 0.00749824,\n",
            "       0.00735268, 0.00781202, 0.00703244, 0.00707125, 0.00667984,\n",
            "       0.0062852 , 0.00844927, 0.00855602, 0.00857543, 0.00904771]), array([0.00843634, 0.00764705, 0.00691922, 0.00805787, 0.0070195 ,\n",
            "       0.006062  , 0.00663132, 0.006062  , 0.00599407, 0.0061461 ,\n",
            "       0.00555414, 0.00582586, 0.004147  , 0.0037847 , 0.00351622,\n",
            "       0.00457399, 0.00563501, 0.00543445, 0.0033189 , 0.00307629,\n",
            "       0.00339329, 0.0023711 , 0.00284015, 0.002659  , 0.00304717,\n",
            "       0.00283044, 0.00371354, 0.00357444, 0.00288543, 0.00249079,\n",
            "       0.00306335, 0.0028822 , 0.0030407 , 0.00279162, 0.00359385,\n",
            "       0.00310216, 0.00316686, 0.00515302, 0.00547327, 0.00558972,\n",
            "       0.0064437 , 0.00656663, 0.0069548 , 0.00653751, 0.00708419,\n",
            "       0.00807727, 0.00750795, 0.00728475, 0.00749824, 0.00735268,\n",
            "       0.00781202, 0.00703244, 0.00707125, 0.00667984, 0.0062852 ,\n",
            "       0.00844927, 0.00855602, 0.00857543, 0.00904771, 0.00878569])]\n",
            "\n",
            "y_train = [0.008785693059585403, 0.007504713721925314]\n",
            "----------------------------\n"
          ],
          "name": "stdout"
        }
      ]
    },
    {
      "cell_type": "code",
      "metadata": {
        "id": "xJP9lZsB5DHe"
      },
      "source": [
        "# Convert x_train and y_train to numpy arrays\n",
        "x_train, y_train = np.array(x_train), np.array(y_train)"
      ],
      "execution_count": null,
      "outputs": []
    },
    {
      "cell_type": "code",
      "metadata": {
        "id": "bE41dyNI5OIy",
        "colab": {
          "base_uri": "https://localhost:8080/",
          "height": 35
        },
        "outputId": "81a1fe67-9b1d-4b15-acc0-d73bbf679864"
      },
      "source": [
        "# Reshape the data\n",
        "# LSTM expects 3D: no. of samples, no. of timesteps, no. of features\n",
        "x_train = np.reshape(x_train, (x_train.shape[0], x_train.shape[1], 1))\n",
        "x_train.shape"
      ],
      "execution_count": null,
      "outputs": [
        {
          "output_type": "execute_result",
          "data": {
            "text/plain": [
              "(2071, 60, 1)"
            ]
          },
          "metadata": {
            "tags": []
          },
          "execution_count": 9
        }
      ]
    },
    {
      "cell_type": "code",
      "metadata": {
        "id": "A-lvqI1G6GDf"
      },
      "source": [
        "# Build the LSTM model\n",
        "model = Sequential()\n",
        "model.add(LSTM(50, return_sequences=True, input_shape = (x_train.shape[1],1)))\n",
        "model.add(LSTM(50, return_sequences=False))\n",
        "model.add(Dense(25))\n",
        "model.add(Dense(1))"
      ],
      "execution_count": null,
      "outputs": []
    },
    {
      "cell_type": "code",
      "metadata": {
        "id": "VkdlI5-A6tyf"
      },
      "source": [
        "# Compile the model\n",
        "model.compile(optimizer='adam', loss='mean_squared_error')"
      ],
      "execution_count": null,
      "outputs": []
    },
    {
      "cell_type": "code",
      "metadata": {
        "id": "09BTMEQA67FU",
        "colab": {
          "base_uri": "https://localhost:8080/",
          "height": 403
        },
        "outputId": "b46eef86-e8ce-4344-fc45-4ca84a104bf6"
      },
      "source": [
        "# Train the model\n",
        "model.fit(x_train, y_train, batch_size = 8, epochs = 10)"
      ],
      "execution_count": null,
      "outputs": [
        {
          "output_type": "stream",
          "text": [
            "Epoch 1/10\n",
            "259/259 [==============================] - 9s 36ms/step - loss: 6.9996e-04\n",
            "Epoch 2/10\n",
            "259/259 [==============================] - 9s 35ms/step - loss: 1.0123e-04\n",
            "Epoch 3/10\n",
            "259/259 [==============================] - 9s 36ms/step - loss: 7.4758e-05\n",
            "Epoch 4/10\n",
            "259/259 [==============================] - 9s 36ms/step - loss: 7.0389e-05\n",
            "Epoch 5/10\n",
            "259/259 [==============================] - 10s 37ms/step - loss: 8.7291e-05\n",
            "Epoch 6/10\n",
            "259/259 [==============================] - 9s 36ms/step - loss: 6.7875e-05\n",
            "Epoch 7/10\n",
            "259/259 [==============================] - 9s 36ms/step - loss: 6.4723e-05\n",
            "Epoch 8/10\n",
            "259/259 [==============================] - 9s 35ms/step - loss: 4.8563e-05\n",
            "Epoch 9/10\n",
            "259/259 [==============================] - 9s 35ms/step - loss: 5.2539e-05\n",
            "Epoch 10/10\n",
            "259/259 [==============================] - 9s 36ms/step - loss: 4.3322e-05\n"
          ],
          "name": "stdout"
        },
        {
          "output_type": "execute_result",
          "data": {
            "text/plain": [
              "<tensorflow.python.keras.callbacks.History at 0x7f5ba947c208>"
            ]
          },
          "metadata": {
            "tags": []
          },
          "execution_count": 12
        }
      ]
    },
    {
      "cell_type": "code",
      "metadata": {
        "id": "MRh87D0j8D32"
      },
      "source": [
        "# Create the testing data set\n",
        "# Create a new array containing scaled values from index 2131 to 2663\n",
        "test_data = scaled_data[training_data_len - 60:, :]\n",
        "\n",
        "# Create the data sets x_test and y_test\n",
        "x_test = []\n",
        "y_test = dataset[training_data_len:, :]\n",
        "for i in range(60, len(test_data)):\n",
        "  x_test.append(test_data[i-60:i, 0])\n"
      ],
      "execution_count": null,
      "outputs": []
    },
    {
      "cell_type": "code",
      "metadata": {
        "id": "KoED2y1O9Pyi"
      },
      "source": [
        "# Convert the data to a numpy array\n",
        "x_test, y_test = np.array(x_test), np.array(y_test)"
      ],
      "execution_count": null,
      "outputs": []
    },
    {
      "cell_type": "code",
      "metadata": {
        "id": "ZcgCw6oR9bn5"
      },
      "source": [
        "# Reshape the data\n",
        "x_test = np.reshape(x_test, (x_test.shape[0], x_test.shape[1], 1))"
      ],
      "execution_count": null,
      "outputs": []
    },
    {
      "cell_type": "code",
      "metadata": {
        "id": "hR69vIxv9v4I"
      },
      "source": [
        "# Get the model's predicted price values\n",
        "predictions = model.predict(x_test)\n",
        "predictions = scaler.inverse_transform(predictions)"
      ],
      "execution_count": null,
      "outputs": []
    },
    {
      "cell_type": "code",
      "metadata": {
        "id": "f72OMEsD-KkC",
        "colab": {
          "base_uri": "https://localhost:8080/",
          "height": 35
        },
        "outputId": "8abf76fa-b07c-4c8d-81a0-16141a3b2f61"
      },
      "source": [
        "# Get the root mean squared error (RMSE)\n",
        "rmse = np.sqrt( np.mean( predictions - y_test)**2 )\n",
        "rmse"
      ],
      "execution_count": null,
      "outputs": [
        {
          "output_type": "execute_result",
          "data": {
            "text/plain": [
              "51.21964327016271"
            ]
          },
          "metadata": {
            "tags": []
          },
          "execution_count": 17
        }
      ]
    },
    {
      "cell_type": "code",
      "metadata": {
        "id": "BJJPLGJZ_YsC",
        "colab": {
          "base_uri": "https://localhost:8080/",
          "height": 628
        },
        "outputId": "43740256-b5a5-4c34-f85e-f0e7b28d2129"
      },
      "source": [
        "# Plot the data\n",
        "train = data[:training_data_len]\n",
        "valid = data[training_data_len:]\n",
        "valid['Predictions'] = predictions\n",
        "\n",
        "# Visualize the data\n",
        "plt.figure(figsize=(16,8))\n",
        "plt.title('Model')\n",
        "plt.xlabel('Date', fontsize=18)\n",
        "plt.ylabel(\"Close price (USD $)\", fontsize=18)\n",
        "plt.plot(train['Close'])\n",
        "plt.plot(valid[['Close', 'Predictions']])\n",
        "plt.legend(['Train', 'Real', 'Predictions'], loc='lower right')\n",
        "plt.show()"
      ],
      "execution_count": null,
      "outputs": [
        {
          "output_type": "stream",
          "text": [
            "/usr/local/lib/python3.6/dist-packages/ipykernel_launcher.py:4: SettingWithCopyWarning: \n",
            "A value is trying to be set on a copy of a slice from a DataFrame.\n",
            "Try using .loc[row_indexer,col_indexer] = value instead\n",
            "\n",
            "See the caveats in the documentation: https://pandas.pydata.org/pandas-docs/stable/user_guide/indexing.html#returning-a-view-versus-a-copy\n",
            "  after removing the cwd from sys.path.\n"
          ],
          "name": "stderr"
        },
        {
          "output_type": "display_data",
          "data": {
            "image/png": "[encoded data removed]",
            "text/plain": [
              "<Figure size 1152x576 with 1 Axes>"
            ]
          },
          "metadata": {
            "tags": [],
            "needs_background": "light"
          }
        }
      ]
    },
    {
      "cell_type": "code",
      "metadata": {
        "id": "OFLPjALDA3VJ",
        "colab": {
          "base_uri": "https://localhost:8080/",
          "height": 455
        },
        "outputId": "124bdfc8-a844-4eb7-a5a9-31a4271b9426"
      },
      "source": [
        "# Show the valid and predicted prices\n",
        "valid"
      ],
      "execution_count": null,
      "outputs": [
        {
          "output_type": "execute_result",
          "data": {
            "text/html": [
              "<div>\n",
              "<style scoped>\n",
              "    .dataframe tbody tr th:only-of-type {\n",
              "        vertical-align: middle;\n",
              "    }\n",
              "\n",
              "    .dataframe tbody tr th {\n",
              "        vertical-align: top;\n",
              "    }\n",
              "\n",
              "    .dataframe thead th {\n",
              "        text-align: right;\n",
              "    }\n",
              "</style>\n",
              "<table border=\"1\" class=\"dataframe\">\n",
              "  <thead>\n",
              "    <tr style=\"text-align: right;\">\n",
              "      <th></th>\n",
              "      <th>Close</th>\n",
              "      <th>Predictions</th>\n",
              "    </tr>\n",
              "    <tr>\n",
              "      <th>Date</th>\n",
              "      <th></th>\n",
              "      <th></th>\n",
              "    </tr>\n",
              "  </thead>\n",
              "  <tbody>\n",
              "    <tr>\n",
              "      <th>2018-06-21</th>\n",
              "      <td>1730.219971</td>\n",
              "      <td>1687.605957</td>\n",
              "    </tr>\n",
              "    <tr>\n",
              "      <th>2018-06-22</th>\n",
              "      <td>1715.670044</td>\n",
              "      <td>1691.646484</td>\n",
              "    </tr>\n",
              "    <tr>\n",
              "      <th>2018-06-25</th>\n",
              "      <td>1663.150024</td>\n",
              "      <td>1690.521729</td>\n",
              "    </tr>\n",
              "    <tr>\n",
              "      <th>2018-06-26</th>\n",
              "      <td>1691.089966</td>\n",
              "      <td>1677.700317</td>\n",
              "    </tr>\n",
              "    <tr>\n",
              "      <th>2018-06-27</th>\n",
              "      <td>1660.510010</td>\n",
              "      <td>1666.354736</td>\n",
              "    </tr>\n",
              "    <tr>\n",
              "      <th>...</th>\n",
              "      <td>...</td>\n",
              "      <td>...</td>\n",
              "    </tr>\n",
              "    <tr>\n",
              "      <th>2020-07-27</th>\n",
              "      <td>3055.209961</td>\n",
              "      <td>2903.817627</td>\n",
              "    </tr>\n",
              "    <tr>\n",
              "      <th>2020-07-28</th>\n",
              "      <td>3000.330078</td>\n",
              "      <td>2896.715332</td>\n",
              "    </tr>\n",
              "    <tr>\n",
              "      <th>2020-07-29</th>\n",
              "      <td>3033.530029</td>\n",
              "      <td>2886.072266</td>\n",
              "    </tr>\n",
              "    <tr>\n",
              "      <th>2020-07-30</th>\n",
              "      <td>3051.879883</td>\n",
              "      <td>2882.803223</td>\n",
              "    </tr>\n",
              "    <tr>\n",
              "      <th>2020-07-31</th>\n",
              "      <td>3164.679932</td>\n",
              "      <td>2888.031250</td>\n",
              "    </tr>\n",
              "  </tbody>\n",
              "</table>\n",
              "<p>532 rows × 2 columns</p>\n",
              "</div>"
            ],
            "text/plain": [
              "                  Close  Predictions\n",
              "Date                                \n",
              "2018-06-21  1730.219971  1687.605957\n",
              "2018-06-22  1715.670044  1691.646484\n",
              "2018-06-25  1663.150024  1690.521729\n",
              "2018-06-26  1691.089966  1677.700317\n",
              "2018-06-27  1660.510010  1666.354736\n",
              "...                 ...          ...\n",
              "2020-07-27  3055.209961  2903.817627\n",
              "2020-07-28  3000.330078  2896.715332\n",
              "2020-07-29  3033.530029  2886.072266\n",
              "2020-07-30  3051.879883  2882.803223\n",
              "2020-07-31  3164.679932  2888.031250\n",
              "\n",
              "[532 rows x 2 columns]"
            ]
          },
          "metadata": {
            "tags": []
          },
          "execution_count": 19
        }
      ]
    },
    {
      "cell_type": "code",
      "metadata": {
        "id": "41LnoestBHbp",
        "colab": {
          "base_uri": "https://localhost:8080/",
          "height": 35
        },
        "outputId": "e3033414-c419-45af-91e0-8ee32970e529"
      },
      "source": [
        "# Get the quote\n",
        "apple_quote = web.DataReader('AMZN', data_source='yahoo', start='2010-01-01', end='2020-08-28')\n",
        "\n",
        "# Get the last 60 day closing price values\n",
        "new_df = apple_quote.filter(['Close'])\n",
        "last_60_days = new_df[-60:].values\n",
        "\n",
        "# Scale the data to range 0-1\n",
        "last_60_days_scaled = scaler.transform(last_60_days)\n",
        "\n",
        "# Convert the test data to a numpy array\n",
        "X_test = []\n",
        "X_test.append(last_60_days_scaled)\n",
        "X_test = np.array(X_test)\n",
        "\n",
        "# Reshape the data\n",
        "X_test = np.reshape(X_test, (X_test.shape[0], X_test.shape[1], 1))\n",
        "\n",
        "# Get the predicted value for AAPL on 2020-08-28\n",
        "pred_price = model.predict(X_test)\n",
        "pred_price = float( scaler.inverse_transform(pred_price) )\n",
        "print(pred_price)"
      ],
      "execution_count": null,
      "outputs": [
        {
          "output_type": "stream",
          "text": [
            "3245.39990234375\n"
          ],
          "name": "stdout"
        }
      ]
    },
    {
      "cell_type": "code",
      "metadata": {
        "id": "wzZ9TTdNE_tg",
        "colab": {
          "base_uri": "https://localhost:8080/",
          "height": 35
        },
        "outputId": "e1feade3-f908-4fac-e9a4-f90f6d7e8ffe"
      },
      "source": [
        "# Get the quote\n",
        "apple_quote2 = web.DataReader('AMZN', data_source='yahoo', start='2020-08-28', end='2020-08-28')\n",
        "# real_price = float( apple_quote2['Close'].values[0] )\n",
        "real_price = apple_quote2['Close'].values[0]\n",
        "print(real_price)"
      ],
      "execution_count": null,
      "outputs": [
        {
          "output_type": "stream",
          "text": [
            "3401.800048828125\n"
          ],
          "name": "stdout"
        }
      ]
    },
    {
      "cell_type": "code",
      "metadata": {
        "id": "-j1oSm9AVxER",
        "colab": {
          "base_uri": "https://localhost:8080/",
          "height": 35
        },
        "outputId": "02f85693-a79e-49fa-840c-b8d8affea6cf"
      },
      "source": [
        "accuracy = pred_price / real_price * 100\n",
        "print(\"Accuracy = {accuracy_percentage}%\".format(accuracy_percentage = accuracy))"
      ],
      "execution_count": null,
      "outputs": [
        {
          "output_type": "stream",
          "text": [
            "Accuracy = 95.40242976543396%\n"
          ],
          "name": "stdout"
        }
      ]
    }
  ]
}