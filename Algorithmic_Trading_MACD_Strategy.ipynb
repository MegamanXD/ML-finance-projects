{
  "nbformat": 4,
  "nbformat_minor": 0,
  "metadata": {
    "colab": {
      "name": "Algorithmic Trading Strategy.ipynb",
      "provenance": [],
      "collapsed_sections": []
    },
    "kernelspec": {
      "name": "python3",
      "display_name": "Python 3"
    }
  },
  "cells": [
    {
      "cell_type": "markdown",
      "metadata": {
        "id": "d8rzd4IkrEEr"
      },
      "source": [
        "# This program uses Matplotlib + the dual moving average crossover to determine when to buy and sell stock"
      ]
    },
    {
      "cell_type": "code",
      "metadata": {
        "id": "xZJDB59CqzSG"
      },
      "source": [
        "# Import the libraries\n",
        "import pandas as pd\n",
        "import numpy as np\n",
        "from datetime import datetime\n",
        "import matplotlib.pyplot as plt\n",
        "plt.style.use('fivethirtyeight')"
      ],
      "execution_count": null,
      "outputs": []
    },
    {
      "cell_type": "code",
      "metadata": {
        "id": "7Tqf6jr6rhaK",
        "colab": {
          "resources": {
            "http://localhost:8080/nbextensions/google.colab/files.js": {
              "data": "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",
              "ok": true,
              "headers": [
                [
                  "content-type",
                  "application/javascript"
                ]
              ],
              "status": 200,
              "status_text": ""
            }
          },
          "base_uri": "https://localhost:8080/",
          "height": 72
        },
        "outputId": "eb6b6287-2084-4fcc-d865-df845d654c81"
      },
      "source": [
        "# Download AAPL.csv from: https://finance.yahoo.com/quote/AAP/history?p=AAP\n",
        "# Load the data\n",
        "from google.colab import files\n",
        "uploaded = files.upload()"
      ],
      "execution_count": null,
      "outputs": [
        {
          "output_type": "display_data",
          "data": {
            "text/html": [
              "\n",
              "     <input type=\"file\" id=\"files-7fc3356d-909d-4863-a76d-57a646b73a52\" name=\"files[]\" multiple disabled\n",
              "        style=\"border:none\" />\n",
              "     <output id=\"result-7fc3356d-909d-4863-a76d-57a646b73a52\">\n",
              "      Upload widget is only available when the cell has been executed in the\n",
              "      current browser session. Please rerun this cell to enable.\n",
              "      </output>\n",
              "      <script src=\"/nbextensions/google.colab/files.js\"></script> "
            ],
            "text/plain": [
              "<IPython.core.display.HTML object>"
            ]
          },
          "metadata": {
            "tags": []
          }
        },
        {
          "output_type": "stream",
          "text": [
            "Saving AAPL.csv to AAPL.csv\n"
          ],
          "name": "stdout"
        }
      ]
    },
    {
      "cell_type": "code",
      "metadata": {
        "id": "wwhz5AiMtUPG",
        "colab": {
          "base_uri": "https://localhost:8080/",
          "height": 419
        },
        "outputId": "5b82ba63-9341-4cfd-d172-5656f32e59e3"
      },
      "source": [
        "# Read the data\n",
        "AAPL = pd.read_csv('AAPL.csv')\n",
        "\n",
        "# Show the first 5 rows of the data\n",
        "AAPL"
      ],
      "execution_count": null,
      "outputs": [
        {
          "output_type": "execute_result",
          "data": {
            "text/html": [
              "<div>\n",
              "<style scoped>\n",
              "    .dataframe tbody tr th:only-of-type {\n",
              "        vertical-align: middle;\n",
              "    }\n",
              "\n",
              "    .dataframe tbody tr th {\n",
              "        vertical-align: top;\n",
              "    }\n",
              "\n",
              "    .dataframe thead th {\n",
              "        text-align: right;\n",
              "    }\n",
              "</style>\n",
              "<table border=\"1\" class=\"dataframe\">\n",
              "  <thead>\n",
              "    <tr style=\"text-align: right;\">\n",
              "      <th></th>\n",
              "      <th>Date</th>\n",
              "      <th>Open</th>\n",
              "      <th>High</th>\n",
              "      <th>Low</th>\n",
              "      <th>Close</th>\n",
              "      <th>Adj Close</th>\n",
              "      <th>Volume</th>\n",
              "    </tr>\n",
              "  </thead>\n",
              "  <tbody>\n",
              "    <tr>\n",
              "      <th>0</th>\n",
              "      <td>2006-10-02</td>\n",
              "      <td>2.682143</td>\n",
              "      <td>2.709643</td>\n",
              "      <td>2.653571</td>\n",
              "      <td>2.673571</td>\n",
              "      <td>2.310338</td>\n",
              "      <td>712639200</td>\n",
              "    </tr>\n",
              "    <tr>\n",
              "      <th>1</th>\n",
              "      <td>2006-10-03</td>\n",
              "      <td>2.658929</td>\n",
              "      <td>2.676786</td>\n",
              "      <td>2.613929</td>\n",
              "      <td>2.645714</td>\n",
              "      <td>2.286266</td>\n",
              "      <td>790708800</td>\n",
              "    </tr>\n",
              "    <tr>\n",
              "      <th>2</th>\n",
              "      <td>2006-10-04</td>\n",
              "      <td>2.646429</td>\n",
              "      <td>2.695000</td>\n",
              "      <td>2.612857</td>\n",
              "      <td>2.692143</td>\n",
              "      <td>2.326385</td>\n",
              "      <td>829082800</td>\n",
              "    </tr>\n",
              "    <tr>\n",
              "      <th>3</th>\n",
              "      <td>2006-10-05</td>\n",
              "      <td>2.661786</td>\n",
              "      <td>2.720000</td>\n",
              "      <td>2.647500</td>\n",
              "      <td>2.672500</td>\n",
              "      <td>2.309412</td>\n",
              "      <td>683883200</td>\n",
              "    </tr>\n",
              "    <tr>\n",
              "      <th>4</th>\n",
              "      <td>2006-10-06</td>\n",
              "      <td>2.657857</td>\n",
              "      <td>2.680000</td>\n",
              "      <td>2.636071</td>\n",
              "      <td>2.650714</td>\n",
              "      <td>2.290586</td>\n",
              "      <td>466958800</td>\n",
              "    </tr>\n",
              "    <tr>\n",
              "      <th>...</th>\n",
              "      <td>...</td>\n",
              "      <td>...</td>\n",
              "      <td>...</td>\n",
              "      <td>...</td>\n",
              "      <td>...</td>\n",
              "      <td>...</td>\n",
              "      <td>...</td>\n",
              "    </tr>\n",
              "    <tr>\n",
              "      <th>3503</th>\n",
              "      <td>2020-09-01</td>\n",
              "      <td>132.759995</td>\n",
              "      <td>134.800003</td>\n",
              "      <td>130.529999</td>\n",
              "      <td>134.179993</td>\n",
              "      <td>134.179993</td>\n",
              "      <td>152470100</td>\n",
              "    </tr>\n",
              "    <tr>\n",
              "      <th>3504</th>\n",
              "      <td>2020-09-02</td>\n",
              "      <td>137.589996</td>\n",
              "      <td>137.979996</td>\n",
              "      <td>127.000000</td>\n",
              "      <td>131.399994</td>\n",
              "      <td>131.399994</td>\n",
              "      <td>200119000</td>\n",
              "    </tr>\n",
              "    <tr>\n",
              "      <th>3505</th>\n",
              "      <td>2020-09-03</td>\n",
              "      <td>126.910004</td>\n",
              "      <td>128.839996</td>\n",
              "      <td>120.500000</td>\n",
              "      <td>120.879997</td>\n",
              "      <td>120.879997</td>\n",
              "      <td>257599600</td>\n",
              "    </tr>\n",
              "    <tr>\n",
              "      <th>3506</th>\n",
              "      <td>2020-09-04</td>\n",
              "      <td>120.070000</td>\n",
              "      <td>123.699997</td>\n",
              "      <td>110.889999</td>\n",
              "      <td>120.959999</td>\n",
              "      <td>120.959999</td>\n",
              "      <td>332607200</td>\n",
              "    </tr>\n",
              "    <tr>\n",
              "      <th>3507</th>\n",
              "      <td>2020-09-08</td>\n",
              "      <td>113.949997</td>\n",
              "      <td>118.989998</td>\n",
              "      <td>112.680000</td>\n",
              "      <td>112.820000</td>\n",
              "      <td>112.820000</td>\n",
              "      <td>230220200</td>\n",
              "    </tr>\n",
              "  </tbody>\n",
              "</table>\n",
              "<p>3508 rows × 7 columns</p>\n",
              "</div>"
            ],
            "text/plain": [
              "            Date        Open        High  ...       Close   Adj Close     Volume\n",
              "0     2006-10-02    2.682143    2.709643  ...    2.673571    2.310338  712639200\n",
              "1     2006-10-03    2.658929    2.676786  ...    2.645714    2.286266  790708800\n",
              "2     2006-10-04    2.646429    2.695000  ...    2.692143    2.326385  829082800\n",
              "3     2006-10-05    2.661786    2.720000  ...    2.672500    2.309412  683883200\n",
              "4     2006-10-06    2.657857    2.680000  ...    2.650714    2.290586  466958800\n",
              "...          ...         ...         ...  ...         ...         ...        ...\n",
              "3503  2020-09-01  132.759995  134.800003  ...  134.179993  134.179993  152470100\n",
              "3504  2020-09-02  137.589996  137.979996  ...  131.399994  131.399994  200119000\n",
              "3505  2020-09-03  126.910004  128.839996  ...  120.879997  120.879997  257599600\n",
              "3506  2020-09-04  120.070000  123.699997  ...  120.959999  120.959999  332607200\n",
              "3507  2020-09-08  113.949997  118.989998  ...  112.820000  112.820000  230220200\n",
              "\n",
              "[3508 rows x 7 columns]"
            ]
          },
          "metadata": {
            "tags": []
          },
          "execution_count": 8
        }
      ]
    },
    {
      "cell_type": "code",
      "metadata": {
        "id": "p1qOTV39tHvp",
        "colab": {
          "base_uri": "https://localhost:8080/",
          "height": 323
        },
        "outputId": "6488df85-a47e-424d-d84a-9994f6e68bce"
      },
      "source": [
        "# Visualize the data\n",
        "plt.figure(figsize = (12.5, 4.5) )\n",
        "plt.plot(AAPL['Adj Close'], label = 'AAPL')\n",
        "\n",
        "plt.title('Apple adjusted close price history')\n",
        "plt.xlabel('Oct. 2nd 2006 - Sept. 8th 2020')\n",
        "plt.ylabel('Adjusted close price (USD $)')\n",
        "\n",
        "plt.legend(loc='upper left')\n",
        "plt.show()"
      ],
      "execution_count": null,
      "outputs": [
        {
          "output_type": "display_data",
          "data": {
            "image/png": "[encoded data removed]",
            "text/plain": [
              "<Figure size 900x324 with 1 Axes>"
            ]
          },
          "metadata": {
            "tags": [],
            "needs_background": "light"
          }
        }
      ]
    },
    {
      "cell_type": "code",
      "metadata": {
        "id": "OIVh0j0Wuxgf",
        "colab": {
          "base_uri": "https://localhost:8080/",
          "height": 419
        },
        "outputId": "5f4ea23e-3ca4-4851-a55e-2eff2bf92295"
      },
      "source": [
        "# Create the simple moving average with a 30-day window\n",
        "SMA30 = pd.DataFrame()\n",
        "SMA30['Adj Close'] = AAPL['Adj Close'].rolling(window = 30).mean()\n",
        "\n",
        "# Show the SMA30\n",
        "SMA30"
      ],
      "execution_count": null,
      "outputs": [
        {
          "output_type": "execute_result",
          "data": {
            "text/html": [
              "<div>\n",
              "<style scoped>\n",
              "    .dataframe tbody tr th:only-of-type {\n",
              "        vertical-align: middle;\n",
              "    }\n",
              "\n",
              "    .dataframe tbody tr th {\n",
              "        vertical-align: top;\n",
              "    }\n",
              "\n",
              "    .dataframe thead th {\n",
              "        text-align: right;\n",
              "    }\n",
              "</style>\n",
              "<table border=\"1\" class=\"dataframe\">\n",
              "  <thead>\n",
              "    <tr style=\"text-align: right;\">\n",
              "      <th></th>\n",
              "      <th>Adj Close</th>\n",
              "    </tr>\n",
              "  </thead>\n",
              "  <tbody>\n",
              "    <tr>\n",
              "      <th>0</th>\n",
              "      <td>NaN</td>\n",
              "    </tr>\n",
              "    <tr>\n",
              "      <th>1</th>\n",
              "      <td>NaN</td>\n",
              "    </tr>\n",
              "    <tr>\n",
              "      <th>2</th>\n",
              "      <td>NaN</td>\n",
              "    </tr>\n",
              "    <tr>\n",
              "      <th>3</th>\n",
              "      <td>NaN</td>\n",
              "    </tr>\n",
              "    <tr>\n",
              "      <th>4</th>\n",
              "      <td>NaN</td>\n",
              "    </tr>\n",
              "    <tr>\n",
              "      <th>...</th>\n",
              "      <td>...</td>\n",
              "    </tr>\n",
              "    <tr>\n",
              "      <th>3503</th>\n",
              "      <td>112.119358</td>\n",
              "    </tr>\n",
              "    <tr>\n",
              "      <th>3504</th>\n",
              "      <td>113.262777</td>\n",
              "    </tr>\n",
              "    <tr>\n",
              "      <th>3505</th>\n",
              "      <td>114.202847</td>\n",
              "    </tr>\n",
              "    <tr>\n",
              "      <th>3506</th>\n",
              "      <td>115.153236</td>\n",
              "    </tr>\n",
              "    <tr>\n",
              "      <th>3507</th>\n",
              "      <td>115.759258</td>\n",
              "    </tr>\n",
              "  </tbody>\n",
              "</table>\n",
              "<p>3508 rows × 1 columns</p>\n",
              "</div>"
            ],
            "text/plain": [
              "       Adj Close\n",
              "0            NaN\n",
              "1            NaN\n",
              "2            NaN\n",
              "3            NaN\n",
              "4            NaN\n",
              "...          ...\n",
              "3503  112.119358\n",
              "3504  113.262777\n",
              "3505  114.202847\n",
              "3506  115.153236\n",
              "3507  115.759258\n",
              "\n",
              "[3508 rows x 1 columns]"
            ]
          },
          "metadata": {
            "tags": []
          },
          "execution_count": 12
        }
      ]
    },
    {
      "cell_type": "code",
      "metadata": {
        "id": "XM7JD_YcvqQF",
        "colab": {
          "base_uri": "https://localhost:8080/",
          "height": 419
        },
        "outputId": "d534c27d-8c80-402e-eadc-db809f433bcd"
      },
      "source": [
        "# Create a simple moving average with 100-day windows\n",
        "SMA100 = pd.DataFrame()\n",
        "SMA100['Adj Close'] = AAPL['Adj Close'].rolling(window = 100).mean()\n",
        "\n",
        "# Show the SMA30\n",
        "SMA100"
      ],
      "execution_count": null,
      "outputs": [
        {
          "output_type": "execute_result",
          "data": {
            "text/html": [
              "<div>\n",
              "<style scoped>\n",
              "    .dataframe tbody tr th:only-of-type {\n",
              "        vertical-align: middle;\n",
              "    }\n",
              "\n",
              "    .dataframe tbody tr th {\n",
              "        vertical-align: top;\n",
              "    }\n",
              "\n",
              "    .dataframe thead th {\n",
              "        text-align: right;\n",
              "    }\n",
              "</style>\n",
              "<table border=\"1\" class=\"dataframe\">\n",
              "  <thead>\n",
              "    <tr style=\"text-align: right;\">\n",
              "      <th></th>\n",
              "      <th>Adj Close</th>\n",
              "    </tr>\n",
              "  </thead>\n",
              "  <tbody>\n",
              "    <tr>\n",
              "      <th>0</th>\n",
              "      <td>NaN</td>\n",
              "    </tr>\n",
              "    <tr>\n",
              "      <th>1</th>\n",
              "      <td>NaN</td>\n",
              "    </tr>\n",
              "    <tr>\n",
              "      <th>2</th>\n",
              "      <td>NaN</td>\n",
              "    </tr>\n",
              "    <tr>\n",
              "      <th>3</th>\n",
              "      <td>NaN</td>\n",
              "    </tr>\n",
              "    <tr>\n",
              "      <th>4</th>\n",
              "      <td>NaN</td>\n",
              "    </tr>\n",
              "    <tr>\n",
              "      <th>...</th>\n",
              "      <td>...</td>\n",
              "    </tr>\n",
              "    <tr>\n",
              "      <th>3503</th>\n",
              "      <td>91.198034</td>\n",
              "    </tr>\n",
              "    <tr>\n",
              "      <th>3504</th>\n",
              "      <td>91.831980</td>\n",
              "    </tr>\n",
              "    <tr>\n",
              "      <th>3505</th>\n",
              "      <td>92.326380</td>\n",
              "    </tr>\n",
              "    <tr>\n",
              "      <th>3506</th>\n",
              "      <td>92.828101</td>\n",
              "    </tr>\n",
              "    <tr>\n",
              "      <th>3507</th>\n",
              "      <td>93.242797</td>\n",
              "    </tr>\n",
              "  </tbody>\n",
              "</table>\n",
              "<p>3508 rows × 1 columns</p>\n",
              "</div>"
            ],
            "text/plain": [
              "      Adj Close\n",
              "0           NaN\n",
              "1           NaN\n",
              "2           NaN\n",
              "3           NaN\n",
              "4           NaN\n",
              "...         ...\n",
              "3503  91.198034\n",
              "3504  91.831980\n",
              "3505  92.326380\n",
              "3506  92.828101\n",
              "3507  93.242797\n",
              "\n",
              "[3508 rows x 1 columns]"
            ]
          },
          "metadata": {
            "tags": []
          },
          "execution_count": 14
        }
      ]
    },
    {
      "cell_type": "code",
      "metadata": {
        "id": "i8hAL0RWvz69",
        "colab": {
          "base_uri": "https://localhost:8080/",
          "height": 323
        },
        "outputId": "be83bf03-d410-47ec-d59c-7562fd614862"
      },
      "source": [
        "# Visualize the data\n",
        "plt.figure(figsize = (12.5, 4.5) )\n",
        "plt.plot(AAPL['Adj Close'], label = 'AAPL')\n",
        "plt.plot(SMA30['Adj Close'], label = 'SMA30')\n",
        "plt.plot(SMA100['Adj Close'], label = 'SMA100')\n",
        "\n",
        "plt.title('Apple adjusted close price history')\n",
        "plt.xlabel('Oct. 2nd 2006 - Sept. 8th 2020')\n",
        "plt.ylabel('Adjusted close price (USD $)')\n",
        "\n",
        "plt.legend(loc='upper left')\n",
        "plt.show()"
      ],
      "execution_count": null,
      "outputs": [
        {
          "output_type": "display_data",
          "data": {
            "image/png": "[encoded data removed]",
            "text/plain": [
              "<Figure size 900x324 with 1 Axes>"
            ]
          },
          "metadata": {
            "tags": [],
            "needs_background": "light"
          }
        }
      ]
    },
    {
      "cell_type": "code",
      "metadata": {
        "id": "z9kTVzXmwoAh",
        "colab": {
          "base_uri": "https://localhost:8080/",
          "height": 419
        },
        "outputId": "8e42caa2-887c-4f66-ac45-d7a07eb81935"
      },
      "source": [
        "# Create a new dataframe to store all the data\n",
        "data = pd.DataFrame()\n",
        "data['AAPL'] = AAPL['Adj Close']\n",
        "data['SMA30'] = SMA30['Adj Close']\n",
        "data['SMA100'] = SMA100['Adj Close']\n",
        "\n",
        "# Show the data frame\n",
        "data"
      ],
      "execution_count": null,
      "outputs": [
        {
          "output_type": "execute_result",
          "data": {
            "text/html": [
              "<div>\n",
              "<style scoped>\n",
              "    .dataframe tbody tr th:only-of-type {\n",
              "        vertical-align: middle;\n",
              "    }\n",
              "\n",
              "    .dataframe tbody tr th {\n",
              "        vertical-align: top;\n",
              "    }\n",
              "\n",
              "    .dataframe thead th {\n",
              "        text-align: right;\n",
              "    }\n",
              "</style>\n",
              "<table border=\"1\" class=\"dataframe\">\n",
              "  <thead>\n",
              "    <tr style=\"text-align: right;\">\n",
              "      <th></th>\n",
              "      <th>AAPL</th>\n",
              "      <th>SMA30</th>\n",
              "      <th>SMA100</th>\n",
              "    </tr>\n",
              "  </thead>\n",
              "  <tbody>\n",
              "    <tr>\n",
              "      <th>0</th>\n",
              "      <td>2.310338</td>\n",
              "      <td>NaN</td>\n",
              "      <td>NaN</td>\n",
              "    </tr>\n",
              "    <tr>\n",
              "      <th>1</th>\n",
              "      <td>2.286266</td>\n",
              "      <td>NaN</td>\n",
              "      <td>NaN</td>\n",
              "    </tr>\n",
              "    <tr>\n",
              "      <th>2</th>\n",
              "      <td>2.326385</td>\n",
              "      <td>NaN</td>\n",
              "      <td>NaN</td>\n",
              "    </tr>\n",
              "    <tr>\n",
              "      <th>3</th>\n",
              "      <td>2.309412</td>\n",
              "      <td>NaN</td>\n",
              "      <td>NaN</td>\n",
              "    </tr>\n",
              "    <tr>\n",
              "      <th>4</th>\n",
              "      <td>2.290586</td>\n",
              "      <td>NaN</td>\n",
              "      <td>NaN</td>\n",
              "    </tr>\n",
              "    <tr>\n",
              "      <th>...</th>\n",
              "      <td>...</td>\n",
              "      <td>...</td>\n",
              "      <td>...</td>\n",
              "    </tr>\n",
              "    <tr>\n",
              "      <th>3503</th>\n",
              "      <td>134.179993</td>\n",
              "      <td>112.119358</td>\n",
              "      <td>91.198034</td>\n",
              "    </tr>\n",
              "    <tr>\n",
              "      <th>3504</th>\n",
              "      <td>131.399994</td>\n",
              "      <td>113.262777</td>\n",
              "      <td>91.831980</td>\n",
              "    </tr>\n",
              "    <tr>\n",
              "      <th>3505</th>\n",
              "      <td>120.879997</td>\n",
              "      <td>114.202847</td>\n",
              "      <td>92.326380</td>\n",
              "    </tr>\n",
              "    <tr>\n",
              "      <th>3506</th>\n",
              "      <td>120.959999</td>\n",
              "      <td>115.153236</td>\n",
              "      <td>92.828101</td>\n",
              "    </tr>\n",
              "    <tr>\n",
              "      <th>3507</th>\n",
              "      <td>112.820000</td>\n",
              "      <td>115.759258</td>\n",
              "      <td>93.242797</td>\n",
              "    </tr>\n",
              "  </tbody>\n",
              "</table>\n",
              "<p>3508 rows × 3 columns</p>\n",
              "</div>"
            ],
            "text/plain": [
              "            AAPL       SMA30     SMA100\n",
              "0       2.310338         NaN        NaN\n",
              "1       2.286266         NaN        NaN\n",
              "2       2.326385         NaN        NaN\n",
              "3       2.309412         NaN        NaN\n",
              "4       2.290586         NaN        NaN\n",
              "...          ...         ...        ...\n",
              "3503  134.179993  112.119358  91.198034\n",
              "3504  131.399994  113.262777  91.831980\n",
              "3505  120.879997  114.202847  92.326380\n",
              "3506  120.959999  115.153236  92.828101\n",
              "3507  112.820000  115.759258  93.242797\n",
              "\n",
              "[3508 rows x 3 columns]"
            ]
          },
          "metadata": {
            "tags": []
          },
          "execution_count": 16
        }
      ]
    },
    {
      "cell_type": "code",
      "metadata": {
        "id": "uGUhzG8iw7pQ"
      },
      "source": [
        "# Create a function to signal when to buy and sell the asset/stock\n",
        "def buy_sell(data):\n",
        "  sigPriceBuy = []\n",
        "  sigPriceSell = []\n",
        "  flag = -1\n",
        "\n",
        "  for i in range(len(data)):\n",
        "    if data['SMA30'][i] >  data['SMA100'][i]:\n",
        "      if flag != 1:\n",
        "        sigPriceBuy.append(data['AAPL'][i])\n",
        "        sigPriceSell.append(np.nan)\n",
        "        flag = 1\n",
        "      else:\n",
        "        sigPriceBuy.append(np.nan)\n",
        "        sigPriceSell.append(np.nan)\n",
        "\n",
        "    elif data['SMA30'][i] <  data['SMA100'][i]:\n",
        "      if flag != 0:\n",
        "        sigPriceBuy.append(np.nan)\n",
        "        sigPriceSell.append(data['AAPL'][i])\n",
        "        flag = 0\n",
        "      else:\n",
        "        sigPriceBuy.append(np.nan)\n",
        "        sigPriceSell.append(np.nan)\n",
        "\n",
        "    else:\n",
        "      sigPriceBuy.append(np.nan)\n",
        "      sigPriceSell.append(np.nan)\n",
        "\n",
        "  return (sigPriceBuy, sigPriceSell)"
      ],
      "execution_count": null,
      "outputs": []
    },
    {
      "cell_type": "code",
      "metadata": {
        "id": "8lSzYTQKydJp"
      },
      "source": [
        "# Store the buy and sell data into a variable\n",
        "buy_sell_signals = buy_sell(data)\n",
        "data['Buy Signal Price'] = buy_sell_signals[0]\n",
        "data['Sell Signal Price'] = buy_sell_signals[1]"
      ],
      "execution_count": null,
      "outputs": []
    },
    {
      "cell_type": "code",
      "metadata": {
        "id": "uKd4107My5l3",
        "colab": {
          "base_uri": "https://localhost:8080/",
          "height": 419
        },
        "outputId": "cb5dfea8-427a-4417-f08e-b062a817a86d"
      },
      "source": [
        "# Show the data\n",
        "data"
      ],
      "execution_count": null,
      "outputs": [
        {
          "output_type": "execute_result",
          "data": {
            "text/html": [
              "<div>\n",
              "<style scoped>\n",
              "    .dataframe tbody tr th:only-of-type {\n",
              "        vertical-align: middle;\n",
              "    }\n",
              "\n",
              "    .dataframe tbody tr th {\n",
              "        vertical-align: top;\n",
              "    }\n",
              "\n",
              "    .dataframe thead th {\n",
              "        text-align: right;\n",
              "    }\n",
              "</style>\n",
              "<table border=\"1\" class=\"dataframe\">\n",
              "  <thead>\n",
              "    <tr style=\"text-align: right;\">\n",
              "      <th></th>\n",
              "      <th>AAPL</th>\n",
              "      <th>SMA30</th>\n",
              "      <th>SMA100</th>\n",
              "      <th>Buy Signal Price</th>\n",
              "      <th>Sell Signal Price</th>\n",
              "    </tr>\n",
              "  </thead>\n",
              "  <tbody>\n",
              "    <tr>\n",
              "      <th>0</th>\n",
              "      <td>2.310338</td>\n",
              "      <td>NaN</td>\n",
              "      <td>NaN</td>\n",
              "      <td>NaN</td>\n",
              "      <td>NaN</td>\n",
              "    </tr>\n",
              "    <tr>\n",
              "      <th>1</th>\n",
              "      <td>2.286266</td>\n",
              "      <td>NaN</td>\n",
              "      <td>NaN</td>\n",
              "      <td>NaN</td>\n",
              "      <td>NaN</td>\n",
              "    </tr>\n",
              "    <tr>\n",
              "      <th>2</th>\n",
              "      <td>2.326385</td>\n",
              "      <td>NaN</td>\n",
              "      <td>NaN</td>\n",
              "      <td>NaN</td>\n",
              "      <td>NaN</td>\n",
              "    </tr>\n",
              "    <tr>\n",
              "      <th>3</th>\n",
              "      <td>2.309412</td>\n",
              "      <td>NaN</td>\n",
              "      <td>NaN</td>\n",
              "      <td>NaN</td>\n",
              "      <td>NaN</td>\n",
              "    </tr>\n",
              "    <tr>\n",
              "      <th>4</th>\n",
              "      <td>2.290586</td>\n",
              "      <td>NaN</td>\n",
              "      <td>NaN</td>\n",
              "      <td>NaN</td>\n",
              "      <td>NaN</td>\n",
              "    </tr>\n",
              "    <tr>\n",
              "      <th>...</th>\n",
              "      <td>...</td>\n",
              "      <td>...</td>\n",
              "      <td>...</td>\n",
              "      <td>...</td>\n",
              "      <td>...</td>\n",
              "    </tr>\n",
              "    <tr>\n",
              "      <th>3503</th>\n",
              "      <td>134.179993</td>\n",
              "      <td>112.119358</td>\n",
              "      <td>91.198034</td>\n",
              "      <td>NaN</td>\n",
              "      <td>NaN</td>\n",
              "    </tr>\n",
              "    <tr>\n",
              "      <th>3504</th>\n",
              "      <td>131.399994</td>\n",
              "      <td>113.262777</td>\n",
              "      <td>91.831980</td>\n",
              "      <td>NaN</td>\n",
              "      <td>NaN</td>\n",
              "    </tr>\n",
              "    <tr>\n",
              "      <th>3505</th>\n",
              "      <td>120.879997</td>\n",
              "      <td>114.202847</td>\n",
              "      <td>92.326380</td>\n",
              "      <td>NaN</td>\n",
              "      <td>NaN</td>\n",
              "    </tr>\n",
              "    <tr>\n",
              "      <th>3506</th>\n",
              "      <td>120.959999</td>\n",
              "      <td>115.153236</td>\n",
              "      <td>92.828101</td>\n",
              "      <td>NaN</td>\n",
              "      <td>NaN</td>\n",
              "    </tr>\n",
              "    <tr>\n",
              "      <th>3507</th>\n",
              "      <td>112.820000</td>\n",
              "      <td>115.759258</td>\n",
              "      <td>93.242797</td>\n",
              "      <td>NaN</td>\n",
              "      <td>NaN</td>\n",
              "    </tr>\n",
              "  </tbody>\n",
              "</table>\n",
              "<p>3508 rows × 5 columns</p>\n",
              "</div>"
            ],
            "text/plain": [
              "            AAPL       SMA30     SMA100  Buy Signal Price  Sell Signal Price\n",
              "0       2.310338         NaN        NaN               NaN                NaN\n",
              "1       2.286266         NaN        NaN               NaN                NaN\n",
              "2       2.326385         NaN        NaN               NaN                NaN\n",
              "3       2.309412         NaN        NaN               NaN                NaN\n",
              "4       2.290586         NaN        NaN               NaN                NaN\n",
              "...          ...         ...        ...               ...                ...\n",
              "3503  134.179993  112.119358  91.198034               NaN                NaN\n",
              "3504  131.399994  113.262777  91.831980               NaN                NaN\n",
              "3505  120.879997  114.202847  92.326380               NaN                NaN\n",
              "3506  120.959999  115.153236  92.828101               NaN                NaN\n",
              "3507  112.820000  115.759258  93.242797               NaN                NaN\n",
              "\n",
              "[3508 rows x 5 columns]"
            ]
          },
          "metadata": {
            "tags": []
          },
          "execution_count": 23
        }
      ]
    },
    {
      "cell_type": "code",
      "metadata": {
        "id": "nU52OIqMzHoJ",
        "colab": {
          "base_uri": "https://localhost:8080/",
          "height": 323
        },
        "outputId": "4e95ba36-0baa-48ed-c8ed-de7cb66cdb8f"
      },
      "source": [
        "# Visualize the data and the strategy to buy & sell the stock\n",
        "plt.figure(figsize = (12.5, 4.5) )\n",
        "plt.plot(AAPL['Adj Close'], label = 'AAPL', alpha = 0.5, lw = 2)\n",
        "plt.plot(SMA30['Adj Close'], label = 'SMA30', alpha = 0.5, lw = 2)\n",
        "plt.plot(SMA100['Adj Close'], label = 'SMA100', alpha = 0.5, lw = 2)\n",
        "\n",
        "plt.scatter(data.index, data['Buy Signal Price'], label = 'Buy', marker = '^', color = 'green')\n",
        "plt.scatter(data.index, data['Sell Signal Price'], label = 'Sell', marker = 'v', color = 'red')\n",
        "\n",
        "\n",
        "plt.title('Apple adjusted close price history + Buy/Sell signals')\n",
        "plt.xlabel('Oct. 2nd 2006 - Sept. 8th 2020')\n",
        "plt.ylabel('Adjusted close price (USD $)')\n",
        "\n",
        "plt.legend(loc='upper left')\n",
        "plt.show()"
      ],
      "execution_count": null,
      "outputs": [
        {
          "output_type": "display_data",
          "data": {
            "image/png": "[encoded data removed]",
            "text/plain": [
              "<Figure size 900x324 with 1 Axes>"
            ]
          },
          "metadata": {
            "tags": [],
            "needs_background": "light"
          }
        }
      ]
    }
  ]
}